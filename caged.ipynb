{
 "cells": [
  {
   "cell_type": "code",
   "execution_count": 2,
   "metadata": {},
   "outputs": [],
   "source": [
    "import ftplib\n",
    "import os\n",
    "import py7zr\n",
    "import pandas as pd\n",
    "import numpy as np"
   ]
  },
  {
   "cell_type": "code",
   "execution_count": null,
   "metadata": {},
   "outputs": [],
   "source": [
    "# CONNECT TO FTP\n",
    "ftp_host = 'ftp.mtps.gov.br'\n",
    "ftp = ftplib.FTP(ftp_host)\n",
    "ftp.login()\n",
    "ftp.cwd('pdet/microdados/CAGED/')"
   ]
  },
  {
   "cell_type": "code",
   "execution_count": null,
   "metadata": {},
   "outputs": [],
   "source": [
    "# DECLARE A FUNCTION TO DOWNLOAD FILES FROM FTP SERVER \n",
    "# AND EXTRACT(.7z) THEM TO A TEMPORARY FOLDER\n",
    "def downloadAndExtract(ftp, filename, path):\n",
    "    tempfile_path = path + \"/tmp/\" + filename\n",
    "    extracted_path = path + \"/tmp/extracted\"\n",
    "    # print(tempfile_path, \"\\n\", extracted_path)\n",
    "    with open(tempfile_path, 'wb') as f:\n",
    "        ftp.retrbinary(f'RETR {filename}', f.write)\n",
    "    py7zr.SevenZipFile(tempfile_path, mode='r').extractall(path=extracted_path)"
   ]
  },
  {
   "cell_type": "code",
   "execution_count": null,
   "metadata": {},
   "outputs": [],
   "source": [
    "#FILTER FOLDERS BY YEAR AND CALL DOWNALOADANDEXTRACT FUNCTION\n",
    "filter = ['2019', '2018']\n",
    "path = os.getcwd()\n",
    "for dir in filter:\n",
    "    ftp.cwd(dir)\n",
    "    files = []\n",
    "    ftp.retrlines('LIST', files.append)\n",
    "    for file in files:\n",
    "        downloadAndExtract(ftp, file.split()[3], path)\n",
    "        # print(file.split()[3])\n",
    "    ftp.cwd('..')"
   ]
  },
  {
   "cell_type": "code",
   "execution_count": null,
   "metadata": {},
   "outputs": [],
   "source": [
    "#READ .TXT FILES AS .CSV AND CONCATENATE THEM INTO A SINGLE PANDAS DATAFRAME\n",
    "path = os.getcwd() + \"/tmp/extracted/\"\n",
    "dataFrames=[]\n",
    "for root, dirs, files in os.walk(path):\n",
    "    for file in files:\n",
    "        dfTmp= pd.read_csv(path + file, encoding='latin-1', sep=';')\n",
    "        dataFrames.append(dfTmp)\n",
    "df = pd.concat(dataFrames, ignore_index=True)"
   ]
  },
  {
   "cell_type": "code",
   "execution_count": null,
   "metadata": {},
   "outputs": [],
   "source": [
    "# HERE WE START TO EXPLORE AND CLEAN THE DATA\n",
    "df.info()"
   ]
  },
  {
   "cell_type": "code",
   "execution_count": null,
   "metadata": {},
   "outputs": [],
   "source": [
    "# CLEANING AND FORMATING COLUMNS THAT HAD DATA TYPE 'Object'\n",
    "df.loc[df['Grau Instrução']=='{ñ','Grau Instrução'] = 7\n",
    "df['Salário Mensal'] = df['Salário Mensal'].str.replace(',','.')\n",
    "df.loc[df['Bairros SP']=='{ñ c','Bairros SP'] = 0\n",
    "df.loc[df['Bairros Fortaleza']=='{ñ c','Bairros Fortaleza'] = 0\n",
    "df.loc[df['Bairros RJ']=='{ñ c','Bairros RJ'] = 0\n",
    "df.loc[df['Distritos SP']=='{ñ c','Distritos SP'] = 0\n",
    "df.loc[df['Região Adm RJ']=='{ñ','Região Adm RJ'] = 0\n",
    "df.loc[df['Região Adm SP']=='{ñ ','Região Adm SP'] = 0\n",
    "df.loc[df['Região Corede']=='{ñ','Região Corede'] = 0\n",
    "df.loc[df['Região Corede 04']=='{ñ','Região Corede 04'] = 0\n",
    "df.loc[df['Região Gov SP'].isin(['{ñ ','***']),'Região Gov SP'] = 0\n",
    "df.loc[df['Região Senac PR'].isin(['{ñ ','{ñ','***']),'Região Senac PR'] = 0\n",
    "df.loc[df['Região Senai PR'].isin(['{ñ ','{ñ','***']),'Região Senai PR'] = 0\n",
    "df.loc[df['Região Senai SP'].isin(['{ñ ','{ñ','***']),'Região Senai SP'] = 0\n",
    "df.loc[df['Sub-Região Senai PR'].isin(['{ñ ','{ñ','***']),'Sub-Região Senai PR'] = 0\n",
    "df['Tempo Emprego'] = df['Tempo Emprego'].astype('float64')\n",
    "df['Tempo Emprego'] = df['Tempo Emprego'].astype('int64')"
   ]
  },
  {
   "cell_type": "code",
   "execution_count": null,
   "metadata": {},
   "outputs": [],
   "source": [
    "# CHANGING DATA TYPES\n",
    "df['Grau Instrução'] = df['Grau Instrução'].astype('int64')\n",
    "df['Salário Mensal'] = df['Salário Mensal'].astype('float64')\n",
    "df['Bairros SP'] = df['Bairros SP'].astype('int64')\n",
    "df['Bairros Fortaleza'] = df['Bairros Fortaleza'].astype('int64')\n",
    "df['Bairros RJ'] = df['Bairros RJ'].astype('int64')\n",
    "df['Distritos SP'] = df['Distritos SP'].astype('int64')\n",
    "df['Região Adm RJ'] = df['Região Adm RJ'].astype('int64')\n",
    "df['Região Adm SP'] = df['Região Adm SP'].astype('int64')\n",
    "df['Região Corede'] = df['Região Corede'].astype('int64')\n",
    "df['Região Corede 04'] = df['Região Corede 04'].astype('int64')\n",
    "df['Região Gov SP'] = df['Região Gov SP'].astype('int64')\n",
    "df['Região Senac PR'] = df['Região Senac PR'].astype('int64')\n",
    "df['Região Senai PR'] = df['Região Senai PR'].astype('int64')\n",
    "df['Região Senai SP'] = df['Região Senai SP'].astype('int64')\n",
    "df['Sub-Região Senai PR'] = df['Sub-Região Senai PR'].astype('int64')"
   ]
  },
  {
   "cell_type": "code",
   "execution_count": null,
   "metadata": {},
   "outputs": [],
   "source": [
    "# df['Região Adm SP'].value_counts()\n",
    "# df['Grau Instrução'].isna().sum()\n",
    "# df['Salário Mensal'].groupby(df['Salário Mensal']).count()\n",
    "# df['Distritos SP'].value_counts()\n",
    "# df.iloc[:,31:39].info()"
   ]
  },
  {
   "cell_type": "code",
   "execution_count": null,
   "metadata": {},
   "outputs": [],
   "source": [
    "# SAVE DATAFRAME TO PARQUET FILE\n",
    "df.to_parquet('caged.parquet')"
   ]
  },
  {
   "cell_type": "code",
   "execution_count": null,
   "metadata": {},
   "outputs": [],
   "source": [
    "# RECHARGE DATAFRAME FROM PARQUET FILE\n",
    "df = pd.read_parquet('caged.parquet')\n",
    "df.info()"
   ]
  },
  {
   "cell_type": "code",
   "execution_count": 9,
   "metadata": {},
   "outputs": [],
   "source": [
    "# CREATE A DATAFRAME FROM THE Municipio TABLE\n",
    "df_mun = pd.read_excel('./tmp/CAGEDEST_layout_Atualizado.xls', sheet_name= 'municipio')\n"
   ]
  },
  {
   "cell_type": "code",
   "execution_count": 12,
   "metadata": {},
   "outputs": [
    {
     "data": {
      "text/html": [
       "<div>\n",
       "<style scoped>\n",
       "    .dataframe tbody tr th:only-of-type {\n",
       "        vertical-align: middle;\n",
       "    }\n",
       "\n",
       "    .dataframe tbody tr th {\n",
       "        vertical-align: top;\n",
       "    }\n",
       "\n",
       "    .dataframe thead th {\n",
       "        text-align: right;\n",
       "    }\n",
       "</style>\n",
       "<table border=\"1\" class=\"dataframe\">\n",
       "  <thead>\n",
       "    <tr style=\"text-align: right;\">\n",
       "      <th></th>\n",
       "      <th>Município</th>\n",
       "      <th>MunicípioStr</th>\n",
       "      <th>UFStr</th>\n",
       "    </tr>\n",
       "  </thead>\n",
       "  <tbody>\n",
       "    <tr>\n",
       "      <th>0</th>\n",
       "      <td>110001</td>\n",
       "      <td>Alta Floresta D Oeste</td>\n",
       "      <td>Ro</td>\n",
       "    </tr>\n",
       "    <tr>\n",
       "      <th>1</th>\n",
       "      <td>110002</td>\n",
       "      <td>Ariquemes</td>\n",
       "      <td>Ro</td>\n",
       "    </tr>\n",
       "    <tr>\n",
       "      <th>2</th>\n",
       "      <td>110003</td>\n",
       "      <td>Cabixi</td>\n",
       "      <td>Ro</td>\n",
       "    </tr>\n",
       "    <tr>\n",
       "      <th>3</th>\n",
       "      <td>110004</td>\n",
       "      <td>Cacoal</td>\n",
       "      <td>Ro</td>\n",
       "    </tr>\n",
       "    <tr>\n",
       "      <th>4</th>\n",
       "      <td>110005</td>\n",
       "      <td>Cerejeiras</td>\n",
       "      <td>Ro</td>\n",
       "    </tr>\n",
       "  </tbody>\n",
       "</table>\n",
       "</div>"
      ],
      "text/plain": [
       "  Município           MunicípioStr UFStr\n",
       "0    110001  Alta Floresta D Oeste    Ro\n",
       "1    110002              Ariquemes    Ro\n",
       "2    110003                 Cabixi    Ro\n",
       "3    110004                 Cacoal    Ro\n",
       "4    110005             Cerejeiras    Ro"
      ]
     },
     "execution_count": 12,
     "metadata": {},
     "output_type": "execute_result"
    }
   ],
   "source": [
    "# SPLIT THE COLUM MUNICIPIO INTO THREE COLUMNS:'Município', 'MunicípioStr' AND 'UFStr' BY THE \":\" AND \"-\" SEPARATORS\n",
    "df_mun[['Município', 'MunicípioStr']] = df_mun['Município'].str.split(':', expand=True)\n",
    "df_mun[['UFStr', 'MunicípioStr']] = df_mun['MunicípioStr'].str.split('-', expand=True, n=1)\n",
    "df_mun.head()"
   ]
  },
  {
   "cell_type": "code",
   "execution_count": 19,
   "metadata": {},
   "outputs": [],
   "source": [
    "# CHANGING DATA TYPES\n",
    "df_mun['Município'] = df_mun['Município'].astype('int64')\n",
    "df_mun['UFStr'] = df_mun['UFStr'].astype('str')\n",
    "df_mun['MunicípioStr'] = df_mun['MunicípioStr'].astype('str')\n"
   ]
  },
  {
   "cell_type": "code",
   "execution_count": 20,
   "metadata": {},
   "outputs": [],
   "source": [
    "# MERGE THE DATAFRAMES 'df' AND 'df_mun' BY THE COLUMN 'Município'\n",
    "df = pd.merge(df, df_mun, left_on='Município', right_on='Município', how='left')\n",
    "df.head()"
   ]
  },
  {
   "cell_type": "code",
   "execution_count": 23,
   "metadata": {},
   "outputs": [],
   "source": [
    "# FILTER THE DATAFRAME TO INCLUDE ONLY THE CAPITALS\n",
    "capitals = ['Rio Branco', 'Maceió', 'Macapá', 'Manaus', 'Salvador', 'Fortaleza',\n",
    "            'Brasília', 'Vitória', 'Goiânia', 'São Luís', 'Cuiabá', 'Campo Grande',\n",
    "            'Belo Horizonte', 'Belém', 'João Pessoa', 'Curitiba', 'Recife', 'Teresina',\n",
    "            'Rio de Janeiro', 'Natal', 'Porto Alegre', 'Porto Velho', 'Boa Vista',\n",
    "            'Florianópolis', 'São Paulo', 'Aracaju', 'Palmas']\n",
    "df = df.loc[df['MunicípioStr'].isin(capitals),:]\n",
    "df.head(20)"
   ]
  },
  {
   "cell_type": "code",
   "execution_count": 27,
   "metadata": {},
   "outputs": [],
   "source": [
    "# SAVE DATAFRAME TO PARQUET AND CSV FILE\n",
    "\n",
    "df.to_parquet('caged_capitals.parquet')\n",
    "df.to_csv('caged_capitals.csv')"
   ]
  }
 ],
 "metadata": {
  "kernelspec": {
   "display_name": "Python 3",
   "language": "python",
   "name": "python3"
  },
  "language_info": {
   "codemirror_mode": {
    "name": "ipython",
    "version": 3
   },
   "file_extension": ".py",
   "mimetype": "text/x-python",
   "name": "python",
   "nbconvert_exporter": "python",
   "pygments_lexer": "ipython3",
   "version": "3.9.9"
  }
 },
 "nbformat": 4,
 "nbformat_minor": 2
}
